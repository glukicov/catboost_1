{
 "cells": [
  {
   "cell_type": "markdown",
   "id": "e8b10a82-8068-4bf1-acc1-012a94b3d1c7",
   "metadata": {},
   "source": [
    "# Predict California house prices"
   ]
  },
  {
   "cell_type": "markdown",
   "id": "8c4aa5a5-39de-429f-b658-4c0d5a1d1ddb",
   "metadata": {},
   "source": [
    "### Install DS packages\n",
    "- Un-comment the line below and run\n",
    "- Then comment back and restart the notebook's kernel ▶️"
   ]
  },
  {
   "cell_type": "code",
   "execution_count": null,
   "id": "88c41b44-ce0f-44f6-8d22-688e634368bb",
   "metadata": {},
   "outputs": [],
   "source": [
    "# !pip install catboost numpy==1.25 pandas scikit-learn matplotlib shap"
   ]
  },
  {
   "cell_type": "code",
   "execution_count": null,
   "id": "2d12ff11-e046-4c9a-9bfe-5b9f7473cb77",
   "metadata": {},
   "outputs": [],
   "source": [
    "import catboost as cb\n",
    "import numpy as np\n",
    "import pandas as pd\n",
    "import matplotlib.pyplot as plt"
   ]
  },
  {
   "cell_type": "markdown",
   "id": "4df37ffb-0848-46bb-9dfe-c2128563fa03",
   "metadata": {},
   "source": [
    "### Import data\n",
    "California house prices and house features in 1990.\n",
    "👉 More info: https://scikit-learn.org/stable/modules/generated/sklearn.datasets.fetch_california_housing.html"
   ]
  },
  {
   "cell_type": "code",
   "execution_count": null,
   "id": "d773db8b-45f0-4946-9d5e-dee48286b072",
   "metadata": {},
   "outputs": [],
   "source": [
    "from sklearn.datasets import fetch_california_housing\n",
    "california = fetch_california_housing()\n",
    "housing = pd.DataFrame(california.data, columns=california.feature_names)"
   ]
  },
  {
   "cell_type": "markdown",
   "id": "86614be2-8321-4718-9b61-e39ab9f937fe",
   "metadata": {},
   "source": [
    "# EDA\n",
    "Explore the housing data"
   ]
  },
  {
   "cell_type": "code",
   "execution_count": null,
   "id": "2d99d64c-f28a-41d1-bfed-76cd74b2b7a1",
   "metadata": {},
   "outputs": [],
   "source": [
    "housing.head()"
   ]
  },
  {
   "cell_type": "code",
   "execution_count": null,
   "id": "8b7d4192-2d39-413c-a093-2021cad0be8a",
   "metadata": {},
   "outputs": [],
   "source": [
    "housing.info()"
   ]
  },
  {
   "cell_type": "code",
   "execution_count": null,
   "id": "81071be8-22de-43c8-b30b-5672a7f5ff4e",
   "metadata": {},
   "outputs": [],
   "source": [
    "housing.isnull().sum()"
   ]
  },
  {
   "cell_type": "code",
   "execution_count": null,
   "id": "2e4bf6a3-a64b-4ffc-9edb-0e47e373bd45",
   "metadata": {},
   "outputs": [],
   "source": [
    "housing.hist()\n",
    "plt.tight_layout()"
   ]
  },
  {
   "cell_type": "code",
   "execution_count": null,
   "id": "0eb4cf47-9508-4cbe-ad65-96c60bd8f06e",
   "metadata": {},
   "outputs": [],
   "source": [
    "housing['AveRooms'].hist(range=[0,10])\n",
    "print(f\"Average number of rooms {housing['AveRooms'].mean():.2}\")"
   ]
  },
  {
   "cell_type": "code",
   "execution_count": null,
   "id": "e95865e6-2ed8-43ac-b079-b961ec6559e9",
   "metadata": {},
   "outputs": [],
   "source": [
    "plt.scatter(x=housing['Longitude'], y=housing['Latitude']);\n",
    "print(\"Can see the Bay Area - good sanity check!\")"
   ]
  },
  {
   "cell_type": "code",
   "execution_count": null,
   "id": "87958dc4-7a49-4639-bd3a-8c43ebba25ed",
   "metadata": {},
   "outputs": [],
   "source": [
    "housing['Latitude'].hist();\n",
    "print(\"We have two regions, North (>36) and South (<36)\")"
   ]
  },
  {
   "cell_type": "markdown",
   "id": "6f5d1a48-bfc0-4eb6-a144-2924b90fb84c",
   "metadata": {},
   "source": [
    "# Feature Engineering"
   ]
  },
  {
   "cell_type": "markdown",
   "id": "aab79387-01d0-4437-a2c9-3295d9e34dad",
   "metadata": {},
   "source": [
    "Now, let's assume (given our real estate market knowledge) we want to remove `Latitude` and `Longitude` features, and replace with new `Region` (`South` or `North`) featutre."
   ]
  },
  {
   "cell_type": "code",
   "execution_count": null,
   "id": "30b7013d-5b24-4770-8e5f-64c1eaf35b53",
   "metadata": {},
   "outputs": [],
   "source": [
    "def create_new_feature_region(latitude_north: float = 36.0) -> pd.DataFrame:\n",
    "    # From a mask (True, False)\n",
    "    is_north_cal = housing['Latitude'] > latitude_north\n",
    "    # Create a new dataset with removed features\n",
    "    updated_housing=housing.drop(columns=['Latitude', 'Longitude'])\n",
    "    # Add a new feature based on masking\n",
    "    updated_housing['Region_bool'] = is_north_cal \n",
    "    # Replace (True->North, False->South) -- useful if we will add more regions later. \n",
    "    updated_housing['Region']=updated_housing['Region_bool'].mask(updated_housing['Region_bool']==True,  'North').mask(updated_housing['Region_bool']==False, 'South')\n",
    "    # Remove our masking column from the final dataset\n",
    "    updated_housing.drop(columns=['Region_bool'], inplace=True)\n",
    "    return updated_housing"
   ]
  },
  {
   "cell_type": "code",
   "execution_count": null,
   "id": "7e635e7f-fa45-4fc8-bd64-1aab98f12d09",
   "metadata": {},
   "outputs": [],
   "source": [
    "updated_housing = create_new_feature_region()\n",
    "# print out some values to confirm\n",
    "updated_housing.iloc[1209:12099]"
   ]
  },
  {
   "cell_type": "markdown",
   "id": "f298b865-f26c-4263-a384-9abdaf4c264d",
   "metadata": {},
   "source": [
    "! Note, we haven't looked at the target (house price in $100K yet) to avoid any bias."
   ]
  },
  {
   "cell_type": "code",
   "execution_count": null,
   "id": "cc47e98e-1d44-42c2-aa37-27b2df2fbd49",
   "metadata": {},
   "outputs": [],
   "source": [
    "features, target = updated_housing, california.target"
   ]
  },
  {
   "cell_type": "markdown",
   "id": "179c4744-fb0c-481b-bdb6-819148e61571",
   "metadata": {},
   "source": [
    "Split data into *test* 20%, *val* 20% (0.8*0.25), *train* 60% and load into Pool https://catboost.ai/en/docs/concepts/python-reference_pool"
   ]
  },
  {
   "cell_type": "code",
   "execution_count": null,
   "id": "7ccf16a6-01f1-4290-9ef5-737278655199",
   "metadata": {},
   "outputs": [],
   "source": [
    "from sklearn.model_selection import train_test_split\n",
    "def return_train_val_test_pools() -> cb.Pool:\n",
    "    features_train_val, features_test, target_train_val, target_test = train_test_split(features, target, test_size=0.2, random_state=1)\n",
    "    features_train, features_val, target_train, target_val = train_test_split(features_train_val, target_train_val, test_size=0.25, random_state=1)\n",
    "    train_dataset = cb.Pool(features_train, target_train, cat_features=['Region']) \n",
    "    val_dataset = cb.Pool(features_val, target_val, cat_features=['Region']) \n",
    "    test_dataset = cb.Pool(features_test, target_test, cat_features=['Region']) \n",
    "    print(f\"Train size: {train_dataset.shape[0]/len(target)}, val size: {val_dataset.shape[0]/len(target)}, test size: {test_dataset.shape[0]/len(target)}\")\n",
    "    return train_dataset, val_dataset, test_dataset, features_test, target_test"
   ]
  },
  {
   "cell_type": "code",
   "execution_count": null,
   "id": "c781fce0-7fde-48d0-b2c8-5d99bb3e1abd",
   "metadata": {},
   "outputs": [],
   "source": [
    "train_pool, val_pool, test_pool, features_test, target_test = return_train_val_test_pools()"
   ]
  },
  {
   "cell_type": "code",
   "execution_count": null,
   "id": "ca024789-018e-4a20-a237-67bd9e5c1a97",
   "metadata": {},
   "outputs": [],
   "source": [
    "from statistics import mean \n",
    "plt.hist(train_pool.get_label())\n",
    "print(f\"Average house price in 1990 in the train dataset is {int(mean(train_pool.get_label()*100_000))} $\")\n",
    "print(f\"According to Demographia, the average house price in California in 1990 was $194300.\")"
   ]
  },
  {
   "cell_type": "markdown",
   "id": "6004db5f-905e-47f5-8d2a-56c2b28e0566",
   "metadata": {},
   "source": [
    "# Training\n",
    "Load CatBoost with defaul parameters, more info https://catboost.ai/en/docs/concepts/python-reference_catboostregressor "
   ]
  },
  {
   "cell_type": "code",
   "execution_count": null,
   "id": "e30872d2-1f40-46e9-9356-a3373816b816",
   "metadata": {},
   "outputs": [],
   "source": [
    "model = cb.CatBoostRegressor()"
   ]
  },
  {
   "cell_type": "markdown",
   "id": "3a136713-16cc-4dff-95f0-24bc9555eb5d",
   "metadata": {},
   "source": [
    "Train with early stopping"
   ]
  },
  {
   "cell_type": "code",
   "execution_count": null,
   "id": "5c4283e1-dcba-4dee-ba63-85eb1ea344ef",
   "metadata": {},
   "outputs": [],
   "source": [
    "model.fit(train_pool, eval_set=val_pool, early_stopping_rounds=20, verbose=50, plot=True)"
   ]
  },
  {
   "cell_type": "markdown",
   "id": "f3033af6-2479-418d-a6b1-1746335086d8",
   "metadata": {},
   "source": [
    "# Testing"
   ]
  },
  {
   "cell_type": "markdown",
   "id": "eaf911d2-7e7c-48c0-a0a9-7df7e79aa4ac",
   "metadata": {},
   "source": [
    "Let's test model prediction for a single house from the test dataset"
   ]
  },
  {
   "cell_type": "code",
   "execution_count": null,
   "id": "71528f21-4f4a-46f9-a7f7-f0e6d1721404",
   "metadata": {},
   "outputs": [],
   "source": [
    "test_house = features_test.iloc[25] \n",
    "true_price = target_test[25] \n",
    "print(f\"Test house:\\n{test_house}\")"
   ]
  },
  {
   "cell_type": "code",
   "execution_count": null,
   "id": "a2f74b32-654c-40d9-81ac-623af04c97ce",
   "metadata": {},
   "outputs": [],
   "source": [
    "print(f\"True price: ${int(true_price*100_000)}\")\n",
    "prediction = model.predict(test_house)\n",
    "print(f\"Model prediction: ${int(prediction*100_000)}\")"
   ]
  },
  {
   "cell_type": "code",
   "execution_count": null,
   "id": "b83a93b4-7723-4653-9d4d-4efe3ccd0c7a",
   "metadata": {},
   "outputs": [],
   "source": [
    "from sklearn.metrics import mean_squared_error, r2_score\n",
    "pred = model.predict(test_pool)\n",
    "rmse = (np.sqrt(mean_squared_error(target_test, pred)))\n",
    "r2 = r2_score(target_test, pred)\n",
    "print(\"Testing performance\")\n",
    "print(f\"RMSE: ${int(rmse*100_000)} -- our model root mean squared error, our average expected error on house prediction\")\n",
    "print(f\"R2: {r2:.2f} -- a fraction of house prices that were well predicted by the model\")"
   ]
  },
  {
   "cell_type": "markdown",
   "id": "3b3944f1-ea56-4661-865c-8c0badc5f61b",
   "metadata": {},
   "source": [
    "# Feature Importance"
   ]
  },
  {
   "cell_type": "markdown",
   "id": "331f0f6b-cbce-4c08-9524-937d6f34f26c",
   "metadata": {},
   "source": [
    "Let's look at which housing featues had the most impact on model predictions. Again, we will use our real estate market knowledge to see if the result is making sense.\n",
    "We will use SHAP library for this: https://pypi.org/project/shap/ "
   ]
  },
  {
   "cell_type": "markdown",
   "id": "d9d6c4db-0f20-46d4-a5d7-558c2ff27777",
   "metadata": {},
   "source": [
    "### What does this plot mean? \n",
    "- Positive SHAP value = driving the house prediction price up\n",
    "- Red = large value of a features\n",
    "\n",
    "Example: Large number of bedrooms (red) means higher predicted price."
   ]
  },
  {
   "cell_type": "code",
   "execution_count": null,
   "id": "fb6f00f1-2d16-40a2-9343-9839401a5872",
   "metadata": {},
   "outputs": [],
   "source": [
    "import shap\n",
    "from tqdm.notebook import tqdm\n",
    "explainer = shap.TreeExplainer(model)\n",
    "shap_values = explainer(features_test)\n",
    "shap.plots.beeswarm(shap_values)"
   ]
  },
  {
   "cell_type": "markdown",
   "id": "f72f0302-00e3-4ab9-ab6a-f90beefcf5cf",
   "metadata": {},
   "source": [
    "We can even ask for explanations for a single house! "
   ]
  },
  {
   "cell_type": "code",
   "execution_count": null,
   "id": "d0288778-e65e-42b9-9722-cb45ff8b9422",
   "metadata": {},
   "outputs": [],
   "source": [
    "shap.initjs()\n",
    "shap.plots.force(shap_values[25, ...])"
   ]
  }
 ],
 "metadata": {
  "kernelspec": {
   "display_name": "Python 3 (ipykernel)",
   "language": "python",
   "name": "python3"
  },
  "language_info": {
   "codemirror_mode": {
    "name": "ipython",
    "version": 3
   },
   "file_extension": ".py",
   "mimetype": "text/x-python",
   "name": "python",
   "nbconvert_exporter": "python",
   "pygments_lexer": "ipython3",
   "version": "3.10.10"
  }
 },
 "nbformat": 4,
 "nbformat_minor": 5
}
